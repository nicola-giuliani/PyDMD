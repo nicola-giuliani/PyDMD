{
 "cells": [
  {
   "cell_type": "markdown",
   "metadata": {},
   "source": [
    "# PyDMD"
   ]
  },
  {
   "cell_type": "markdown",
   "metadata": {},
   "source": [
    "## Tutorial 5: Forward-Backward Dynamic Mode Decomposition on numerical solutions"
   ]
  },
  {
   "cell_type": "markdown",
   "metadata": {},
   "source": [
    "In this tutorial we will show the application of the forward-backward dynamic mode decomposition (see [Dawson et al.](https://arxiv.org/abs/1507.02264)) applied to the numerical solutions of a fluid dynamics problem. We run a simple simulation with the software [OpenFOAM](https://www.openfoam.com), taking one of the several tutorials provided: in this case, we simulate the flow of an incompressible turbulent fluid around some buildings by solving the Reynolds-averaged Navier Stokes equations using the *k-$\\epsilon$* model. We will not discuss the simulation details, since the main purpose of this tutorial is to show a **PyDMD** usecase with numerical data, you can find all the information at this [link](https://github.com/OpenFOAM/OpenFOAM-5.x/tree/master/tutorials/incompressible/simpleFoam/windAroundBuildings)."
   ]
  },
  {
   "cell_type": "markdown",
   "metadata": {},
   "source": [
    "First of all we import the FbDMD and the DMD classes from the pydmd package, we set matplotlib for the notebook, we import numpy and we import Ipython widgets (for some magic trick)."
   ]
  },
  {
   "cell_type": "code",
   "execution_count": null,
   "metadata": {
    "collapsed": true
   },
   "outputs": [],
   "source": [
    "%matplotlib inline\n",
    "import matplotlib.pyplot as plt\n",
    "import numpy as np\n",
    "import time\n",
    "\n",
    "from pydmd import FbDMD\n",
    "from pydmd import DMD\n",
    "\n",
    "from ipywidgets import interact_manual, interact, interactive, FloatSlider"
   ]
  },
  {
   "cell_type": "markdown",
   "metadata": {},
   "source": [
    "Now, we import the $x$ component of the flow velocity at the ground. In order to visualize the dataset, we load also the points coordinates."
   ]
  },
  {
   "cell_type": "code",
   "execution_count": null,
   "metadata": {
    "collapsed": true
   },
   "outputs": [],
   "source": [
    "snapshots = [\n",
    "    np.genfromtxt('data/velocity0.{}.csv'.format(i), delimiter=',', skip_header=1)[:, 0]\n",
    "    for i in range(20, 40)\n",
    "]\n",
    "\n",
    "pts = np.genfromtxt('data/velocity0.20.csv', delimiter=',', skip_header=1)[:, -3:-1]"
   ]
  },
  {
   "cell_type": "markdown",
   "metadata": {},
   "source": [
    "We show some snapshots: since the original system was discretized using an unstructured grid, the visualization is not easy. We use a simple scatter plot in order to have an idea of what we are trying to analyze."
   ]
  },
  {
   "cell_type": "code",
   "execution_count": null,
   "metadata": {
    "collapsed": false
   },
   "outputs": [],
   "source": [
    "plt.figure(figsize=(16, 16))\n",
    "for i, snapshot in enumerate(snapshots[::5], start=1):\n",
    "    plt.subplot(2, 2, i)\n",
    "    plt.scatter(pts[:, 0], pts[:, 1], c=snapshot, marker='.')\n",
    "plt.show()"
   ]
  },
  {
   "cell_type": "markdown",
   "metadata": {},
   "source": [
    "Alright, now we can decompose the snapshots matrix: we instantiate the new object then fit the snapshots. We remind that the argument of the `fit` method can be a 2D numpy.ndarray or a simple iterable object, like a list or a tuple."
   ]
  },
  {
   "cell_type": "code",
   "execution_count": null,
   "metadata": {
    "collapsed": false
   },
   "outputs": [],
   "source": [
    "fbdmd = FbDMD(exact=True)\n",
    "fbdmd.fit(snapshots)\n",
    "print(fbdmd.reconstructed_data.shape)"
   ]
  },
  {
   "cell_type": "markdown",
   "metadata": {},
   "source": [
    "The forward-backward version reduces the error by computing the low-rank linear operator as the square root of the product between the operator for the forward evolution and the operator for the backward evolution. The `FbDMD` class has the same attributes and methods of the `DMD` class. Try to compare this version with the original one, by checking the stability of the dynamics."
   ]
  },
  {
   "cell_type": "code",
   "execution_count": null,
   "metadata": {
    "collapsed": false
   },
   "outputs": [],
   "source": [
    "dmd = DMD(exact=True)\n",
    "dmd.fit(snapshots)\n",
    "print(dmd.reconstructed_data.shape)\n",
    "print('[DMD  ] Total distance between eigenvalues and unit circle: {}'.format(\n",
    "    np.sum(np.abs(dmd.eigs.real**2 + dmd.eigs.imag**2 - 1))\n",
    "))\n",
    "print('[FbDMD] Total distance between eigenvalues and unit circle: {}'.format(\n",
    "    np.sum(np.abs(fbdmd.eigs.real**2 + fbdmd.eigs.imag**2 - 1))\n",
    "))\n",
    "\n",
    "dmd.plot_eigs()\n",
    "fbdmd.plot_eigs()"
   ]
  },
  {
   "cell_type": "markdown",
   "metadata": {},
   "source": [
    "The eigenvalues from the forward-backward dynamic mode decomposition are closer to unit circle, compared to the ones from the standard DMD! Dealing with numerical solutions, where a small noise is often present, this algorithm can be the right way.\n",
    "\n",
    "Now let's manipulate the temporal window in order to have a small future prediction of the system. Moreover, we halve the delta-time in order to have more reconstructed snapshots."
   ]
  },
  {
   "cell_type": "code",
   "execution_count": null,
   "metadata": {
    "collapsed": false
   },
   "outputs": [],
   "source": [
    "fbdmd.dmd_time['dt'] *= .5\n",
    "fbdmd.dmd_time['tend'] += 10\n",
    "\n",
    "\n",
    "dmd.dmd_time['dt'] *= .5\n",
    "dmd.dmd_time['tend'] += 10\n",
    "\n",
    "\n",
    "plt.plot(fbdmd.dmd_timesteps, fbdmd.dynamics.T.real)\n",
    "plt.show()"
   ]
  },
  {
   "cell_type": "markdown",
   "metadata": {},
   "source": [
    "To conclude the tutorial, the coolest part! We create a simple function that plots the proper reconstructed snapshot given the right time. Then we use the Ipython widgets to interactively show the states of the system, allowing the user to understand the evolution just touching a slider. If you have an old version of the ipython widgets it is possible that this line: output.layout.height = '500px', produces some trouble. Just comment it in that case."
   ]
  },
  {
   "cell_type": "code",
   "execution_count": null,
   "metadata": {
    "collapsed": false
   },
   "outputs": [],
   "source": [
    "def plot_state(time):\n",
    "    i = int((time - fbdmd.dmd_time['t0']) / fbdmd.dmd_time['dt'])\n",
    "    plt.figure(figsize=(8,8))\n",
    "#     plt.scatter(pts[:, 0], pts[:, 1], c=fbdmd.reconstructed_data[:, i].real, marker='.')\n",
    "\n",
    "    plt.scatter(pts[:, 0], pts[:, 1], c=dmd.reconstructed_data[:, i].real, marker='.')\n",
    "\n",
    "    plt.show()\n",
    "    \n",
    "interactive_plot = interactive(\n",
    "    plot_state, \n",
    "    time=FloatSlider(\n",
    "        min=fbdmd.dmd_time['t0'],\n",
    "        max=fbdmd.dmd_time['tend'],\n",
    "        step=fbdmd.dmd_time['dt'],\n",
    "        value=0,\n",
    "        continuous_update=False\n",
    "    )\n",
    ")\n",
    "output = interactive_plot.children[-1]\n",
    "# output.layout.height = '500px'\n",
    "interactive_plot"
   ]
  },
  {
   "cell_type": "markdown",
   "metadata": {},
   "source": [
    "We successfully use the **PyDMD** package to data that comes from a real application, using the forward-backward algorithm in order to delete the numerical noise."
   ]
  }
 ],
 "metadata": {
  "kernelspec": {
   "display_name": "Python [Root]",
   "language": "python",
   "name": "Python [Root]"
  },
  "language_info": {
   "codemirror_mode": {
    "name": "ipython",
    "version": 2
   },
   "file_extension": ".py",
   "mimetype": "text/x-python",
   "name": "python",
   "nbconvert_exporter": "python",
   "pygments_lexer": "ipython2",
   "version": "2.7.12"
  }
 },
 "nbformat": 4,
 "nbformat_minor": 2
}
