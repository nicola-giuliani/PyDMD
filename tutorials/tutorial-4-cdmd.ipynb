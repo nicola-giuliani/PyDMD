{
 "cells": [
  {
   "cell_type": "markdown",
   "metadata": {},
   "source": [
    "# PyDMD"
   ]
  },
  {
   "cell_type": "markdown",
   "metadata": {},
   "source": [
    "## Tutorial 4: Compressed Dynamic Mode Decomposition"
   ]
  },
  {
   "cell_type": "markdown",
   "metadata": {},
   "source": [
    "In this tutorial we will show the analysis and the reconstruction of a generic system using the compressed dynamic mode decomposition (CDMD). As a reference please follow [this work](https://doi.org/10.1007/s11554-016-0655-2) by Erichson, Brunton and Kutz. In this variation of the original algorithm, the snapshots matrix is compressed through a premultiplication by a proper matrix, and then the compressed matrix is decomposed."
   ]
  },
  {
   "cell_type": "markdown",
   "metadata": {},
   "source": [
    "First of all we import the CDMD and the DMD classes from the pydmd package, we set matplotlib for the notebook, we import numpy and we import the time package for some future benchmarks."
   ]
  },
  {
   "cell_type": "code",
   "execution_count": null,
   "metadata": {
    "collapsed": false
   },
   "outputs": [],
   "source": [
    "%matplotlib inline\n",
    "import matplotlib.pyplot as plt\n",
    "import numpy as np\n",
    "import time\n",
    "\n",
    "from pydmd import CDMD\n",
    "from pydmd import DMD"
   ]
  },
  {
   "cell_type": "markdown",
   "metadata": {},
   "source": [
    "Now, we create an helper function that returns the input snapshots from a given spatial and temporal resolution.\n",
    "As in previous tutorials, the studied system is obtained from the sum of different functions:<br>\n",
    "- $f_1(x, t) = e^{\\frac{-x^2}{5}}\\,\\cos(4x)\\,e^{(2.3i)t}$\n",
    "- $f_2(x, t) = (1-e^{1-\\frac{x^2}{6}})e^{(1.3i)t}$\n",
    "- $f_3(x, t) = (-\\frac{x^2}{50} + 1)1.1i^{-2t}$"
   ]
  },
  {
   "cell_type": "code",
   "execution_count": null,
   "metadata": {
    "collapsed": true
   },
   "outputs": [],
   "source": [
    "def create_dataset(x_dim, t_dim):\n",
    "    def f1(x,t): \n",
    "        return np.exp(-x**2*.2)*np.cos(4*x)*np.exp(2.3j*t)\n",
    "\n",
    "    def f2(x,t):\n",
    "        return (1-np.exp(1-x**2/6)) * np.exp(1.3j*t)\n",
    "\n",
    "    def f3(x, t):\n",
    "        return (-.02*x**2 + 1) * (1.1j**(-2*t))\n",
    "\n",
    "    x = np.linspace(-5, 5, x_dim)\n",
    "    t = np.linspace(0, 4*np.pi, t_dim)\n",
    "\n",
    "    xgrid, tgrid = np.meshgrid(x,t)\n",
    "\n",
    "    X1 = f1(xgrid, tgrid)\n",
    "    X2 = f2(xgrid, tgrid)\n",
    "    X3 = f3(xgrid, tgrid)\n",
    "    return xgrid, tgrid, (X1 + X2 + X3)"
   ]
  },
  {
   "cell_type": "markdown",
   "metadata": {},
   "source": [
    "The plot below represents the dataset."
   ]
  },
  {
   "cell_type": "code",
   "execution_count": null,
   "metadata": {
    "collapsed": false
   },
   "outputs": [],
   "source": [
    "xgrid, tgrid, X = create_dataset(256, 128)\n",
    "plt.figure(figsize=(7, 7))\n",
    "plt.pcolor(xgrid, tgrid, X.real)\n",
    "plt.show()"
   ]
  },
  {
   "cell_type": "markdown",
   "metadata": {},
   "source": [
    "In order to compress the dataset, we need to build the matrix that premultiplies the snapshots matrix. The class `CDMD` provides the following prebuilt matrices:\n",
    "- *normal*: a matrix with dimension (`nsnaps`, `ndim`) where the elements are randomly generated with normal distribution with mean equal to 0.0 and standard deviation equal to 1.0;\n",
    "- *uniform*: a matrix with dimension (`nsnaps`, `ndim`) where the elements are randomly generated with uniform distribution between 0 and 1;\n",
    "- *sparse*: a random sparse matrix with dimension (`nsnaps`, `ndim`);\n",
    "- *sample*: a matrix with dimension (`nsnaps`, `ndim`) where each row contains an element equal to 1 and all the other elements are null.\n",
    "\n",
    "It is sufficient to pass the right string when the new object is created to choose the matrix. Otherwise it is possible to use a custom matrix for the compression, as we show below."
   ]
  },
  {
   "cell_type": "code",
   "execution_count": null,
   "metadata": {
    "collapsed": true
   },
   "outputs": [],
   "source": [
    "snapshots_matrix = X.T\n",
    "random_matrix = np.random.permutation(snapshots_matrix.shape[0] * snapshots_matrix.shape[1])\n",
    "random_matrix = random_matrix.reshape(snapshots_matrix.shape[1], snapshots_matrix.shape[0])\n",
    "\n",
    "compression_matrix = random_matrix / np.linalg.norm(random_matrix)"
   ]
  },
  {
   "cell_type": "markdown",
   "metadata": {},
   "source": [
    "We instantiate the `CDMD` matrix, passing as `compression_matrix` argument the matrix we created. The constructor is very similar to the `DMD` class, except to the compression matrix and the missing of the `exact` argument (in the compressed version, there is only one way to compute the modes). We plot the modes and the dynamics."
   ]
  },
  {
   "cell_type": "code",
   "execution_count": null,
   "metadata": {
    "collapsed": false
   },
   "outputs": [],
   "source": [
    "cdmd = CDMD(svd_rank=3, compression_matrix=compression_matrix)\n",
    "cdmd.fit(snapshots_matrix)\n",
    "\n",
    "plt.figure(figsize=(16, 8))\n",
    "plt.subplot(1, 2, 1)\n",
    "plt.plot(cdmd.modes.real)\n",
    "plt.subplot(1, 2, 2)\n",
    "plt.plot(cdmd.dynamics.T.real)\n",
    "plt.show()"
   ]
  },
  {
   "cell_type": "markdown",
   "metadata": {},
   "source": [
    "In order to investigate about the reconstruction accuracy, we compare the results obtained with the CDMD and the standard DMD, respectively."
   ]
  },
  {
   "cell_type": "code",
   "execution_count": null,
   "metadata": {
    "collapsed": false
   },
   "outputs": [],
   "source": [
    "dmd = DMD(svd_rank=3, exact=True)\n",
    "dmd.fit(snapshots_matrix)\n",
    "\n",
    "dmd_error = np.linalg.norm(snapshots_matrix-dmd.reconstructed_data)\n",
    "cdmd_error = np.linalg.norm(snapshots_matrix-cdmd.reconstructed_data)\n",
    "print(\"DMD error: {}\".format(dmd_error))\n",
    "print(\"CDMD error: {}\".format(cdmd_error))\n",
    "\n",
    "plt.figure(figsize=(16,8))\n",
    "plt.subplot(1, 3, 1)\n",
    "plt.title('Original snapshots')\n",
    "plt.pcolor(xgrid, tgrid, snapshots_matrix.real.T)\n",
    "plt.subplot(1, 3, 2)\n",
    "plt.title('Reconstructed with DMD')\n",
    "plt.pcolor(xgrid, tgrid, dmd.reconstructed_data.real.T)\n",
    "plt.subplot(1, 3, 3)\n",
    "plt.title('Reconstructed with CDMD')\n",
    "plt.pcolor(xgrid, tgrid, cdmd.reconstructed_data.real.T)\n",
    "plt.show()"
   ]
  },
  {
   "cell_type": "markdown",
   "metadata": {},
   "source": [
    "The error using the compressed input is slightly greater, but the reconstruction looks very similar to the orignal input. So, why we need the compressed algorithm instead of the original one? The snapshots matrix without compression has dimension *ndim $\\times$ nsnapshots*, where *ndim* is the dimension of each snapshots and *nsnapshots* is the number of snapshots. The compressed snapshots matrix is instead a *nsnapshots $\\times$ nsnapshots* matrix; so, over a userful noise reduction due to the compression, this version allows a faster computation. Let's measure it."
   ]
  },
  {
   "cell_type": "code",
   "execution_count": null,
   "metadata": {
    "collapsed": false
   },
   "outputs": [],
   "source": [
    "time_dmd = []\n",
    "time_cdmd = []\n",
    "dim = []\n",
    "\n",
    "niter = 4\n",
    "ndims = 10 ** np.arange(2, 2+niter)\n",
    "nsnaps = [100] * niter\n",
    "for nsnap, ndim in zip(nsnaps, ndims):\n",
    "    snapshots_matrix = create_dataset(ndim, nsnap)[-1].T\n",
    "    dim.append(snapshots_matrix.shape[0])\n",
    "    random_matrix = np.random.permutation(snapshots_matrix.shape[0] * snapshots_matrix.shape[1])\n",
    "    random_matrix = random_matrix.reshape(snapshots_matrix.shape[1], snapshots_matrix.shape[0])\n",
    "\n",
    "    compression_matrix = random_matrix / np.linalg.norm(random_matrix)\n",
    "    \n",
    "    t0 = time.time()\n",
    "    DMD(svd_rank=-1, exact=True).fit(snapshots_matrix)\n",
    "    t1 = time.time()\n",
    "    time_dmd.append(t1-t0)\n",
    "    \n",
    "    t0 = time.time()\n",
    "    CDMD(svd_rank=-1, compression_matrix=compression_matrix).fit(snapshots_matrix)\n",
    "    t1 = time.time()\n",
    "    time_cdmd.append(t1-t0)\n",
    "\n",
    "plt.figure(figsize=(10,5))\n",
    "plt.plot(dim, time_dmd, 'ro--', label='exact dmd')\n",
    "plt.plot(dim, time_cdmd, 'bo--', label='compressed dmd')\n",
    "plt.legend()\n",
    "plt.ylabel('Seconds')\n",
    "plt.xlabel('Snapshots dimension')\n",
    "plt.show()"
   ]
  },
  {
   "cell_type": "markdown",
   "metadata": {},
   "source": [
    "The input compression, in this case, halves the computational time, with just a negligible quality loss. Try this technique with your biggest datasets and share with us your results! "
   ]
  }
 ],
 "metadata": {
  "anaconda-cloud": {},
  "kernelspec": {
   "display_name": "Python [Root]",
   "language": "python",
   "name": "Python [Root]"
  },
  "language_info": {
   "codemirror_mode": {
    "name": "ipython",
    "version": 2
   },
   "file_extension": ".py",
   "mimetype": "text/x-python",
   "name": "python",
   "nbconvert_exporter": "python",
   "pygments_lexer": "ipython2",
   "version": "2.7.12"
  }
 },
 "nbformat": 4,
 "nbformat_minor": 2
}
